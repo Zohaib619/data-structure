{
 "cells": [
  {
   "cell_type": "markdown",
   "id": "76bcf809-f97b-4824-838a-40a62d2c3b3f",
   "metadata": {},
   "source": [
    "### What is a Stack in Data Structure?\n",
    "A stack is a linear data structure that follows the LIFO (Last In First Out) principle. This means the last element added is the first one to be removed.\n",
    "\n",
    "Imagine a stack of plates — you add plates on top, and you remove the top plate first. That's exactly how a stack works! 🍽️"
   ]
  },
  {
   "cell_type": "markdown",
   "id": "ba50f809-5656-4891-b076-956bf610b06d",
   "metadata": {},
   "source": [
    "### Key Operations in a Stack"
   ]
  },
  {
   "cell_type": "markdown",
   "id": "6a7dc506-1af3-4e22-8ff6-36b99392032e",
   "metadata": {},
   "source": [
    "<table>\n",
    "  <thead>\n",
    "    <tr>\n",
    "      <th style=\"text-align: left;\">Operation</th>\n",
    "      <th style=\"text-align: left;\">Description</th>\n",
    "      <th style=\"text-align: left;\">Example in Python</th>\n",
    "    </tr>\n",
    "  </thead>\n",
    "  <tbody>\n",
    "    <tr>\n",
    "      <td>Push</td>\n",
    "      <td>Add an element to the top</td>\n",
    "      <td><code>stack.append(5)</code></td>\n",
    "    </tr>\n",
    "    <tr>\n",
    "      <td>Pop</td>\n",
    "      <td>Remove the top element</td>\n",
    "      <td><code>stack.pop()</code></td>\n",
    "    </tr>\n",
    "    <tr>\n",
    "      <td>Peek/Top</td>\n",
    "      <td>View the top element without removing it</td>\n",
    "      <td><code>stack[-1]</code></td>\n",
    "    </tr>\n",
    "    <tr>\n",
    "      <td>IsEmpty</td>\n",
    "      <td>Check if the stack is empty</td>\n",
    "      <td><code>len(stack) == 0</code></td>\n",
    "    </tr>\n",
    "  </tbody>\n",
    "</table>\n"
   ]
  },
  {
   "cell_type": "markdown",
   "id": "7cacb223-48ea-43a7-954b-9577c32f9294",
   "metadata": {},
   "source": [
    "### Example of Stack in Python\n",
    "Python’s list can be used to implement a stack easily:"
   ]
  },
  {
   "cell_type": "code",
   "execution_count": 3,
   "id": "8c423852-66d1-4947-9e85-7ca78b4a850b",
   "metadata": {},
   "outputs": [],
   "source": [
    "# Stack Implementation in Python\n",
    "stack = []  # Empty stack"
   ]
  },
  {
   "cell_type": "code",
   "execution_count": 4,
   "id": "bbf23184-f504-4c9c-97e6-1c776f14b3ef",
   "metadata": {},
   "outputs": [
    {
     "name": "stdout",
     "output_type": "stream",
     "text": [
      "Stack after pushing: [10, 20, 30]\n"
     ]
    }
   ],
   "source": [
    "# Pushing elements\n",
    "stack.append(10)\n",
    "stack.append(20)\n",
    "stack.append(30)\n",
    "print(\"Stack after pushing:\", stack)"
   ]
  },
  {
   "cell_type": "code",
   "execution_count": 5,
   "id": "55d29d18-7c6f-4e41-8d19-549cc5db1689",
   "metadata": {},
   "outputs": [
    {
     "name": "stdout",
     "output_type": "stream",
     "text": [
      "Popped element: 30\n",
      "Stack after popping: [10, 20]\n"
     ]
    }
   ],
   "source": [
    "# Popping elements\n",
    "print(\"Popped element:\", stack.pop())  # Output: 30\n",
    "print(\"Stack after popping:\", stack)   # Output: [10, 20]\n"
   ]
  },
  {
   "cell_type": "code",
   "execution_count": 6,
   "id": "774a8aa4-46b3-40a9-adfe-5c948a0df838",
   "metadata": {},
   "outputs": [
    {
     "name": "stdout",
     "output_type": "stream",
     "text": [
      "Top element: 20\n"
     ]
    }
   ],
   "source": [
    "# Peek (view top element)\n",
    "print(\"Top element:\", stack[-1])       # Output: 20"
   ]
  },
  {
   "cell_type": "code",
   "execution_count": 7,
   "id": "7071e8d6-fd8c-4f89-94f6-46b41c025e51",
   "metadata": {},
   "outputs": [
    {
     "name": "stdout",
     "output_type": "stream",
     "text": [
      "Stack is not empty\n"
     ]
    }
   ],
   "source": [
    "# Check if stack is empty\n",
    "if not stack:\n",
    "    print(\"Stack is empty\")\n",
    "else:\n",
    "    print(\"Stack is not empty\")"
   ]
  },
  {
   "cell_type": "markdown",
   "id": "32a9abc9-a09b-404d-943a-ec1478ce4832",
   "metadata": {},
   "source": [
    "### Real-life Example of Stack\n",
    "\n",
    "Browser History: The back/forward navigation uses a stack.\n",
    "\n",
    "Undo/Redo Functionality: In text editors, your last action is stored at the top of the stack.\n",
    "\n",
    "Call Stack in Programming: Tracks function calls."
   ]
  },
  {
   "cell_type": "markdown",
   "id": "e531fb6d-fa9d-44b5-b641-c3f5b7ef263c",
   "metadata": {},
   "source": [
    "### Example: Undo Feature in Python"
   ]
  },
  {
   "cell_type": "code",
   "execution_count": 8,
   "id": "13d8cafd-4c40-477f-855c-f233886c521e",
   "metadata": {},
   "outputs": [
    {
     "name": "stdout",
     "output_type": "stream",
     "text": [
      "Undoing: Added image\n",
      "Current Actions: [\"Typed 'Hello'\", 'Bolded text']\n"
     ]
    }
   ],
   "source": [
    "undo_stack = []\n",
    "\n",
    "# User actions\n",
    "undo_stack.append(\"Typed 'Hello'\")\n",
    "undo_stack.append(\"Bolded text\")\n",
    "undo_stack.append(\"Added image\")\n",
    "\n",
    "print(\"Undoing:\", undo_stack.pop())  # Output: Undoing: Added image\n",
    "print(\"Current Actions:\", undo_stack)\n",
    "# Output: [\"Typed 'Hello'\", \"Bolded text\"]\n"
   ]
  },
  {
   "cell_type": "markdown",
   "id": "3c6da17f-5ade-4c4a-a2d4-f4e71c411ce3",
   "metadata": {},
   "source": [
    "### When to Use a Stack?\n",
    "✅ When you need last-in-first-out behavior.\n",
    "\n",
    "✅ For backtracking algorithms (e.g., maze solving).\n",
    "\n",
    "✅ For parsing expressions (like checking balanced parentheses)."
   ]
  }
 ],
 "metadata": {
  "kernelspec": {
   "display_name": "Python 3 (ipykernel)",
   "language": "python",
   "name": "python3"
  },
  "language_info": {
   "codemirror_mode": {
    "name": "ipython",
    "version": 3
   },
   "file_extension": ".py",
   "mimetype": "text/x-python",
   "name": "python",
   "nbconvert_exporter": "python",
   "pygments_lexer": "ipython3",
   "version": "3.13.2"
  }
 },
 "nbformat": 4,
 "nbformat_minor": 5
}
