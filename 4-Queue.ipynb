{
 "cells": [
  {
   "cell_type": "markdown",
   "id": "15adcfb0-02e4-4e82-bbd2-04c32076a861",
   "metadata": {},
   "source": [
    "### What is a Queue in Data Structure?\n",
    "A queue is a linear data structure that follows the FIFO (First In First Out) principle. This means the first element added is the first one to be removed — similar to a queue of people waiting in line. 🚶‍♂️🚶‍♀️🚶‍♂️"
   ]
  },
  {
   "cell_type": "markdown",
   "id": "433405ad-99b9-4e3c-8e40-186ee6d9eade",
   "metadata": {},
   "source": [
    "### Key Characteristics of a Queue\n",
    "✅ FIFO (First In First Out) principle.\n",
    "\n",
    "✅ Insertion happens at the rear (end).\n",
    "\n",
    "✅ Deletion happens from the front (beginning).\n",
    "\n",
    "✅ Useful for task scheduling, buffer management, and breadth-first search (BFS) algorithms."
   ]
  },
  {
   "attachments": {
    "7ca877f9-b849-4332-a16a-1ae27101aecb.png": {
     "image/png": "[encoded data removed]"
    }
   },
   "cell_type": "markdown",
   "id": "d0eaea2f-02f1-4265-a53c-466f45b3fab1",
   "metadata": {},
   "source": [
    "![image.png](attachment:7ca877f9-b849-4332-a16a-1ae27101aecb.png)\n",
    "\n",
    "[Queue Data Structure - W3Schools](https://www.w3schools.com/dsa/dsa_data_queues.php)\n"
   ]
  },
  {
   "cell_type": "markdown",
   "id": "3675c8a0-727b-49ea-ac56-b4239dd1b9e0",
   "metadata": {},
   "source": [
    "### Key Operations in a Queue"
   ]
  },
  {
   "cell_type": "markdown",
   "id": "78b11ee1-4a2a-40f6-b6aa-383a6ad4dcea",
   "metadata": {},
   "source": [
    "<table>\n",
    "  <thead>\n",
    "    <tr>\n",
    "      <th style=\"text-align: left;\">Operation</th>\n",
    "      <th style=\"text-align: left;\">Description</th>\n",
    "      <th style=\"text-align: left;\">Python Code Example</th>\n",
    "    </tr>\n",
    "  </thead>\n",
    "  <tbody>\n",
    "    <tr>\n",
    "      <td>Enqueue</td>\n",
    "      <td>Add an element to the rear</td>\n",
    "      <td><code>queue.append(5)</code></td>\n",
    "    </tr>\n",
    "    <tr>\n",
    "      <td>Dequeue</td>\n",
    "      <td>Remove an element from the front</td>\n",
    "      <td><code>queue.pop(0)</code></td>\n",
    "    </tr>\n",
    "    <tr>\n",
    "      <td>Peek/Front</td>\n",
    "      <td>View the front element</td>\n",
    "      <td><code>queue[0]</code></td>\n",
    "    </tr>\n",
    "    <tr>\n",
    "      <td>IsEmpty</td>\n",
    "      <td>Check if the queue is empty</td>\n",
    "      <td><code>len(queue) == 0</code></td>\n",
    "    </tr>\n",
    "  </tbody>\n",
    "</table>\n"
   ]
  },
  {
   "cell_type": "code",
   "execution_count": null,
   "id": "e633c87a-d63c-4d07-b9ac-51171d8b4827",
   "metadata": {},
   "outputs": [],
   "source": []
  }
 ],
 "metadata": {
  "kernelspec": {
   "display_name": "Python 3 (ipykernel)",
   "language": "python",
   "name": "python3"
  },
  "language_info": {
   "codemirror_mode": {
    "name": "ipython",
    "version": 3
   },
   "file_extension": ".py",
   "mimetype": "text/x-python",
   "name": "python",
   "nbconvert_exporter": "python",
   "pygments_lexer": "ipython3",
   "version": "3.13.2"
  }
 },
 "nbformat": 4,
 "nbformat_minor": 5
}
