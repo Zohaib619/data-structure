{
 "cells": [
  {
   "cell_type": "markdown",
   "id": "b7b439df-ee32-4ef3-b104-f6f9e6c90c98",
   "metadata": {},
   "source": [
    "### What is an Array in Data Structure?\n",
    "An array is a collection of elements stored in contiguous memory locations. It allows storing multiple values under a single variable name. Each element in the array is accessed using its index.\n",
    "\n",
    "### Key Characteristics\n",
    "✅ Fixed size (in most languages like C, Java).\n",
    "\n",
    "✅ Elements are stored in sequential memory locations.\n",
    "\n",
    "✅ Supports random access using index values."
   ]
  },
  {
   "cell_type": "markdown",
   "id": "2d73955b-10ed-4fa2-b36a-a9cbc8d93794",
   "metadata": {},
   "source": [
    "### Example in Python\n",
    "In Python, arrays are commonly implemented using lists (which are dynamic and flexible)."
   ]
  },
  {
   "cell_type": "code",
   "execution_count": 2,
   "id": "cdfa3419-3a8f-4e50-a6b5-c3bdf7c339b7",
   "metadata": {},
   "outputs": [
    {
     "name": "stdout",
     "output_type": "stream",
     "text": [
      "10\n",
      "40\n",
      "[10, 25, 30, 40, 50]\n",
      "[10, 25, 30, 40, 50, 60]\n",
      "[10, 25, 40, 50, 60]\n"
     ]
    }
   ],
   "source": [
    "# Example of an array in Python\n",
    "numbers = [10, 20, 30, 40, 50]\n",
    "\n",
    "# Accessing elements using index\n",
    "print(numbers[0])  # Output: 10\n",
    "print(numbers[3])  # Output: 40\n",
    "\n",
    "# Modifying an element\n",
    "numbers[1] = 25\n",
    "print(numbers)  # Output: [10, 25, 30, 40, 50]\n",
    "\n",
    "# Adding elements\n",
    "numbers.append(60)  # Adds at the end\n",
    "print(numbers)      # Output: [10, 25, 30, 40, 50, 60]\n",
    "\n",
    "# Removing elements\n",
    "numbers.remove(30)  # Removes the value 30\n",
    "print(numbers)      # Output: [10, 25, 40, 50, 60]\n"
   ]
  },
  {
   "cell_type": "markdown",
   "id": "df18b78c-d9d6-43cb-b424-538daadb070e",
   "metadata": {},
   "source": [
    "### Common Operations in Arrays"
   ]
  },
  {
   "cell_type": "markdown",
   "id": "63af983f-0c0b-4fc0-9d23-3a88fa07ef03",
   "metadata": {},
   "source": [
    "<table>\n",
    "  <thead>\n",
    "    <tr>\n",
    "      <th style=\"text-align: left;\">Operation</th>\n",
    "      <th style=\"text-align: left;\">Description</th>\n",
    "      <th style=\"text-align: left;\">Example in Python</th>\n",
    "    </tr>\n",
    "  </thead>\n",
    "  <tbody>\n",
    "    <tr>\n",
    "      <td>Access</td>\n",
    "      <td>Get element by index</td>\n",
    "      <td><code>arr[2]</code></td>\n",
    "    </tr>\n",
    "    <tr>\n",
    "      <td>Insert</td>\n",
    "      <td>Add element at end or specific position</td>\n",
    "      <td><code>arr.append(20)</code> / <code>arr.insert(1, 15)</code></td>\n",
    "    </tr>\n",
    "    <tr>\n",
    "      <td>Delete</td>\n",
    "      <td>Remove element by value or index</td>\n",
    "      <td><code>arr.remove(30)</code> / <code>del arr[2]</code></td>\n",
    "    </tr>\n",
    "    <tr>\n",
    "      <td>Search</td>\n",
    "      <td>Find element's index</td>\n",
    "      <td><code>arr.index(50)</code></td>\n",
    "    </tr>\n",
    "    <tr>\n",
    "      <td>Sort</td>\n",
    "      <td>Arrange elements in order</td>\n",
    "      <td><code>arr.sort()</code></td>\n",
    "    </tr>\n",
    "  </tbody>\n",
    "</table>\n"
   ]
  },
  {
   "cell_type": "markdown",
   "id": "9c8dae42-a451-4d5f-b4ff-85367536aee0",
   "metadata": {},
   "source": [
    "### Real-life Example\n",
    "Imagine you’re building a to-do list in a Vue.js app. An array can store all the tasks:"
   ]
  },
  {
   "cell_type": "code",
   "execution_count": 3,
   "id": "6a879482-470c-42d0-a912-60e59701a8a3",
   "metadata": {},
   "outputs": [
    {
     "name": "stdout",
     "output_type": "stream",
     "text": [
      "['Learn Python', 'Build a Vue App', 'Explore Laravel', 'Study Data Structures']\n"
     ]
    }
   ],
   "source": [
    "tasks = [\"Learn Python\", \"Build a Vue App\", \"Explore Laravel\"]\n",
    "# Add new task\n",
    "tasks.append(\"Study Data Structures\")\n",
    "print(tasks)"
   ]
  },
  {
   "cell_type": "code",
   "execution_count": null,
   "id": "aa0faba9-e2df-4c85-9bdb-61572a454f2e",
   "metadata": {},
   "outputs": [],
   "source": []
  }
 ],
 "metadata": {
  "kernelspec": {
   "display_name": "Python 3 (ipykernel)",
   "language": "python",
   "name": "python3"
  },
  "language_info": {
   "codemirror_mode": {
    "name": "ipython",
    "version": 3
   },
   "file_extension": ".py",
   "mimetype": "text/x-python",
   "name": "python",
   "nbconvert_exporter": "python",
   "pygments_lexer": "ipython3",
   "version": "3.13.2"
  }
 },
 "nbformat": 4,
 "nbformat_minor": 5
}
